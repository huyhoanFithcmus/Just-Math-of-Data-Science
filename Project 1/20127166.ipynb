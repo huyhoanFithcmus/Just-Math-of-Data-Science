{
  "cells": [
    {
      "cell_type": "markdown",
      "metadata": {
        "id": "3dHs7LCBhFXy"
      },
      "source": [
        "## 20127166 - Nguyễn Huy Hoàn"
      ]
    },
    {
      "cell_type": "markdown",
      "metadata": {
        "id": "QJT6-DVohFX7"
      },
      "source": [
        "## Đồ án 1: Color Compression\n",
        "\n",
        "### Giáo viên hướng dẫn\n",
        "* ThS. Phan Thị Phương Uyên\n",
        "* ThS. Nguyễn Văn Quang Huy"
      ]
    },
    {
      "cell_type": "markdown",
      "metadata": {
        "id": "akv08m22hFX8"
      },
      "source": [
        "### Các thư viện sử dụng trong đồ án này"
      ]
    },
    {
      "cell_type": "code",
      "execution_count": 1,
      "metadata": {
        "id": "t0btXge9hFX8"
      },
      "outputs": [],
      "source": [
        "from scipy import *\n",
        "import numpy as np\n",
        "from PIL import Image\n",
        "import matplotlib.pyplot as plt"
      ]
    },
    {
      "cell_type": "markdown",
      "metadata": {
        "id": "6rH7lvvlhFX_"
      },
      "source": [
        "### Các bước thực hiện thuật toán K-Means \n",
        "* Bước 1: Khởi tạo centroid\n",
        "* Bước 2: Tính toán độ lệch giữa các điểm và centroid\n",
        "* Bước 3 : Cập nhật centroid mới, giá trị của centroidi mới bằng giá trị trung bình (means,median,...) của cluster mới\n",
        "* Bước 4 : Thực hiện lặp lại cho đến khi kết quả hội tụ."
      ]
    },
    {
      "cell_type": "markdown",
      "metadata": {
        "id": "5M5uoLE8hFYA"
      },
      "source": [
        "### Mô tả các hàm trong chương trình"
      ]
    },
    {
      "cell_type": "code",
      "execution_count": 2,
      "metadata": {
        "id": "6CIsHfyphFYB"
      },
      "outputs": [],
      "source": [
        "# khởi tạo centroids \n",
        "def init_centroid(img_1d, k_cluster, init_centroid_type = 'in_pixels'):\n",
        "    if init_centroid_type == 'in_pixels':\n",
        "        return img_1d[np.random.choice(img_1d.shape[0], k_cluster, replace= False)] \n",
        "    elif init_centroid_type == 'random':\n",
        "        return np.random.choice(256, size = (k_cluster, img_1d.shape[1]), replace=False) \n",
        "        "
      ]
    },
    {
      "cell_type": "markdown",
      "metadata": {
        "id": "fFq982TahFYC"
      },
      "source": [
        "1. Ở bước này chúng ta sẽ khởi tạo k centroid, do yêu cầu thực hiện 2 cách khởi tạo khác nhau, ta có như sau :\n",
        "\n",
        "- Đối kiểu khởi tạo là random, chúng ta sẽ return k centroid với mỗi giá trị là integer thuộc đoạn [0,255],  mỗi centroid có số channel của một pixel.\n",
        "- Đối kiểu khởi tạo là in_pixels, chúng ta sẽ return k centroid với mỗi giá trị thuộc ảnh\n",
        "Có thể sử dụng hàm ```numpy.random.choice(replace = False)``` để không bị trùng giá trị centroid."
      ]
    },
    {
      "cell_type": "code",
      "execution_count": 3,
      "metadata": {
        "id": "sQl2bTcNhFYD"
      },
      "outputs": [],
      "source": [
        "def cal_distance(img_1d, centroid):\n",
        "    #norm-2 between pixel and centroid\n",
        "    distance = np.linalg.norm(img_1d - centroid[0], axis=1)\n",
        "    distance = distance.reshape((img_1d.shape[0], 1))\n",
        "    for i in range(1,centroid.shape[0]):\n",
        "        temp = np.linalg.norm(img_1d - centroid[i], axis=1)\n",
        "        temp = temp.reshape((img_1d.shape[0], 1))\n",
        "        distance = np.concatenate((distance,temp),axis=1)\n",
        "    #return smallest distance's label centroid for each pixel\n",
        "    return np.argmin(distance,axis = 1)\n"
      ]
    },
    {
      "cell_type": "markdown",
      "metadata": {
        "id": "ElEnJoavhFYE"
      },
      "source": [
        "2. Ở bước thứ hai, với mỗi centroid, chúng ta sẽ thực hiện việc tính độ chênh lệch giữa toàn bộ pixel đến centroid bằng cách dùng hàm ```linalg.norm()```, sau đó lưu lại ở một vector có kích thước là ``` count(pixel) * 1 ``` , lặp lại với k centroid và ghép các vector lại với nhau. Sau cùng hàm numpy.argmin() sẽ trả về index của centroid làm cho độ chênh lệch ít nhất.\n",
        "\n",
        "* [numpy.linalg.norm Document](https://numpy.org/doc/stable/reference/generated/numpy.linalg.norm.html)"
      ]
    },
    {
      "cell_type": "code",
      "execution_count": 4,
      "metadata": {
        "id": "bLirq440hFYF"
      },
      "outputs": [],
      "source": [
        "def update_centroid(img_1d, label, k_cluster, channel):\n",
        "    centroid = np.zeros((k_cluster,channel))\n",
        "    for k in range(k_cluster):\n",
        "        #slice cluster k from img_1d\n",
        "        cluster_k = img_1d[label == k]\n",
        "        #if cluster have 0 data point -> pass update centroid\n",
        "        if len(cluster_k) == 0:\n",
        "            continue\n",
        "        #update centroid\n",
        "        centroid[k] = np.mean(cluster_k, axis=0)\n",
        "    return centroid"
      ]
    },
    {
      "cell_type": "markdown",
      "metadata": {
        "id": "0VKhMiMThFYG"
      },
      "source": [
        "3. Ở bước thứ ba, chúng ta sẽ cập nhật lại centroid mới từ một cluster đã được tìm ra, với mỗi giá trị label k , chúng ta sẽ trả ra những pixel được gán label k trong ma trận ảnh, sau đó tính giá trị của centroid mới bằng hàm ```numpy.mean()``` hoặc ```numpy.median()``` hoặc ```numpy.average()``` của những pixel có label k đó. Nếu xảy ra trường hợp cluster k không có một pixel nào thì có thể bỏ qua việc cập nhật cluster đó"
      ]
    },
    {
      "cell_type": "code",
      "execution_count": 5,
      "metadata": {
        "id": "mH3MWYV0hFYH"
      },
      "outputs": [],
      "source": [
        "def converge_check(centroid, new_centroid):\n",
        "    if np.array_equal(centroid, new_centroid):\n",
        "        return True\n",
        "    else:\n",
        "        return False"
      ]
    },
    {
      "cell_type": "markdown",
      "metadata": {
        "id": "AezMibOGhFYH"
      },
      "source": [
        "4. Ở bước tiếp theo, chúng ta sẽ xét giá trị của centroid của 2 lần tính toán gần nhất, nếu khoảng cách giữa các giá trị của centroid lần tính trước và centroid vừa tính hiện tại bằng nhau thì giá trị centroid vừa tính xem như đủ tốt để dừng chương trình"
      ]
    },
    {
      "cell_type": "code",
      "execution_count": 6,
      "metadata": {
        "id": "VjMhB7qRhFYI"
      },
      "outputs": [],
      "source": [
        "def update_data_point(img_1d,k_clusters,label,centroids):\n",
        "    new_img = np.zeros(img_1d.shape)\n",
        "    for k in range(k_clusters):\n",
        "        new_img[label == k] = centroids[k]\n",
        "    return new_img"
      ]
    },
    {
      "cell_type": "markdown",
      "metadata": {
        "id": "WKSX5GOBhFYJ"
      },
      "source": [
        "5. Ở bước này, với mỗi pixel có label k thì được thay thế bằng giá trị của centroid của cluster k."
      ]
    },
    {
      "cell_type": "code",
      "execution_count": 7,
      "metadata": {
        "id": "GycViN_5hFYJ"
      },
      "outputs": [],
      "source": [
        "def kmeans(img_1d, k_clusters, init_centroids='in_pixels'):\n",
        "    #flatten array\n",
        "    max_iter = 1000\n",
        "    row = img_1d.shape[0]\n",
        "    column = img_1d.shape[1]\n",
        "    channel = img_1d.shape[2]\n",
        "    img_1d = img_1d.reshape(img_1d.shape[0] * img_1d.shape[1], img_1d.shape[2])\n",
        "    #init centroids\n",
        "    centroid = [init_centroid(img_1d, k_clusters, init_centroids)]\n",
        "    label = []\n",
        "    while True and max_iter:\n",
        "        #assign label of datapoint\n",
        "        new_label = cal_distance(img_1d, centroid[-1])\n",
        "        label.append(new_label)\n",
        "        new_centroid = update_centroid(img_1d,label[-1],k_clusters, channel)\n",
        "        if converge_check(centroid[-1],new_centroid) :\n",
        "            break\n",
        "        max_iter-=1\n",
        "        centroid.append(new_centroid)\n",
        "    new_img = update_data_point(img_1d,k_clusters,label[-1],centroid[-1])\n",
        "    new_img = new_img.reshape(row,column,channel)\n",
        "    return centroid[-1], new_img\n"
      ]
    },
    {
      "cell_type": "markdown",
      "metadata": {
        "id": "dCiAHQ_lhFYK"
      },
      "source": [
        "6. việc xử lý một ma trận nhiều chiều khá phức tạp (với ảnh RGB khi đọc vào sẽ có số chiều là 3), do đó chúng ta cần thực hiện việc chuyển ma trận ảnh về 2 chiều như trên. sau đó thực hiện việc khởi tạo centroid. Tiếp đến thực hiện thuật toán trên lần lượt theo một số lượng lần max_iter cho trước (Ở đây là 1000 lần), hoặc đến khi kết quả hội tụ (điều kiện hội tụ được thể hiện bên dưới)."
      ]
    },
    {
      "cell_type": "code",
      "execution_count": null,
      "metadata": {
        "id": "kw1EwxdbhFYK"
      },
      "outputs": [],
      "source": [
        "if __name__ == '__main__':\n",
        "    img = input()\n",
        "    img_1d = Image.open(img)\n",
        "    img_1d = np.asarray(img_1d)\n",
        "    k_clusters = 15\n",
        "    # =50\n",
        "    row = img_1d.shape[0]\n",
        "    column = img_1d.shape[1]\n",
        "    channel = img_1d.shape[2]\n",
        "    #init_centroids = 'in_pixels' OR init_centroids = 'random'\n",
        "    new_centroid, new_img = kmeans(img_1d, k_clusters,init_centroids = 'in_pixels')\n",
        "    print('new centroid = ', new_centroid)\n",
        "    print('new img = ', new_img)\n",
        "    plt.imshow(new_img.astype('uint8'))\n",
        "    plt.show()\n"
      ]
    },
    {
      "cell_type": "code",
      "execution_count": null,
      "metadata": {
        "id": "sNkbw8NcLQ-k"
      },
      "outputs": [],
      "source": []
    }
  ],
  "metadata": {
    "colab": {
      "collapsed_sections": [],
      "name": "nhhoan.ipynb",
      "provenance": []
    },
    "interpreter": {
      "hash": "ad2bdc8ecc057115af97d19610ffacc2b4e99fae6737bb82f5d7fb13d2f2c186"
    },
    "kernelspec": {
      "display_name": "Python 3.9.12 ('base')",
      "language": "python",
      "name": "python3"
    },
    "language_info": {
      "codemirror_mode": {
        "name": "ipython",
        "version": 3
      },
      "file_extension": ".py",
      "mimetype": "text/x-python",
      "name": "python",
      "nbconvert_exporter": "python",
      "pygments_lexer": "ipython3",
      "version": "3.9.12"
    },
    "orig_nbformat": 4
  },
  "nbformat": 4,
  "nbformat_minor": 0
}
