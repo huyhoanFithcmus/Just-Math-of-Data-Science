{
 "cells": [
  {
   "cell_type": "markdown",
   "metadata": {},
   "source": [
    "# <center>Đồ án 3: Linear Regression</center>"
   ]
  },
  {
   "cell_type": "markdown",
   "metadata": {},
   "source": [
    "# Thông tin sinh viên\n",
    "\n",
    "- Họ và tên: Nguyễn Huy Hoàn\n",
    "- MSSV: 20127166\n",
    "- Lớp: 20CLC02"
   ]
  },
  {
   "cell_type": "markdown",
   "metadata": {},
   "source": [
    "# Import"
   ]
  },
  {
   "cell_type": "code",
   "execution_count": 6,
   "metadata": {},
   "outputs": [],
   "source": [
    "import pandas as pd\n",
    "import numpy as np\n",
    "\n",
    "# Import thêm dữ thư viện nếu cần\n",
    "import sklearn as sk\n",
    "from sklearn import linear_model\n",
    "from sklearn.linear_model import LinearRegression\n",
    "from sklearn.model_selection import KFold\n",
    "import matplotlib.pyplot as plt\n"
   ]
  },
  {
   "cell_type": "markdown",
   "metadata": {},
   "source": [
    "# Đọc dữ liệu"
   ]
  },
  {
   "cell_type": "code",
   "execution_count": 7,
   "metadata": {},
   "outputs": [],
   "source": [
    "# Đọc dữ liệu bằng pandas\n",
    "train = pd.read_csv('train.csv', sep=',')\n",
    "test = pd.read_csv('test.csv', sep=',')\n",
    "\n",
    "# Lấy các đặc trưng X và giá trị mục tiêu y cho các tập huấn luyện (train) và kiểm tra (test)\n",
    "X_train = train.iloc[:, :-1]    # Dataframe (chứa 10 đặc trưng huấn luyện)\n",
    "y_train = train.iloc[:, -1]     # Series    (chứa 1 giá trị mục tiêu kiểm tra)\n",
    "\n",
    "X_test = test.iloc[:, :-1]      # Dataframe (chứa 10 đặc trưng kiểm tra)\n",
    "y_test = test.iloc[:, -1]       # Series    (chứa 1 giá trị mục tiêu kiểm tra)\n",
    "\n",
    "# Sinh viên có thể sử dụng các khác nếu cần\n"
   ]
  },
  {
   "cell_type": "markdown",
   "metadata": {},
   "source": [
    "# Cài đặt hàm"
   ]
  },
  {
   "cell_type": "code",
   "execution_count": 8,
   "metadata": {},
   "outputs": [
    {
     "name": "stdout",
     "output_type": "stream",
     "text": [
      "['Adult Mortality', 'BMI', 'Polio', 'Diphtheria', 'HIV/AIDS', 'GDP', 'Thinness age 10-19', 'Thinness age 5-9', 'Income composition of resources', 'Schooling', 'Life expectancy']\n",
      "['Adult Mortality', 'BMI', 'Polio', 'Diphtheria', 'HIV/AIDS', 'GDP', 'Thinness age 10-19', 'Thinness age 5-9', 'Income composition of resources', 'Schooling', 'Life expectancy']\n"
     ]
    }
   ],
   "source": [
    "name_Columns = list(train.columns.values)\n",
    "print(name_Columns)\n",
    "\n",
    "name_test = list(test.columns.values)\n",
    "print(name_test)\n",
    "\n",
    "data = np.array(train)\n",
    "data_test = np.array(test)\n"
   ]
  },
  {
   "cell_type": "markdown",
   "metadata": {},
   "source": [
    "# Yêu cầu 1a: Sử dụng toàn bộ 10 đặc trưng đề bài cung cấp (2 điểm) "
   ]
  },
  {
   "cell_type": "code",
   "execution_count": 9,
   "metadata": {},
   "outputs": [
    {
     "name": "stdout",
     "output_type": "stream",
     "text": [
      "[-1.66735019e-02  4.57240701e-02  1.45796482e-03  2.52880296e-02\n",
      " -4.98038653e-01  6.29392892e-05 -4.03371368e-02 -5.64810372e-02\n",
      "  1.27058960e+01  7.07694514e-01]\n"
     ]
    }
   ],
   "source": [
    "# Phần code cho yêu cầu 1a\n",
    "model = LinearRegression()\n",
    "model.fit(X_train, y_train)\n",
    "prediction = model.predict(X_test)\n",
    "# print(model.coef_)\n",
    "# print(prediction)"
   ]
  },
  {
   "cell_type": "code",
   "execution_count": 11,
   "metadata": {},
   "outputs": [
    {
     "name": "stdout",
     "output_type": "stream",
     "text": [
      "RMSE:  3.461055081296453\n"
     ]
    }
   ],
   "source": [
    "# Gọi hàm RMSE (tự cài đặt hoặc từ thư viện) trên tập kiểm tra\n",
    "RMSE = np.sqrt(np.mean((prediction - y_test) ** 2))\n",
    "print(\"RMSE: \", RMSE)"
   ]
  },
  {
   "cell_type": "markdown",
   "metadata": {},
   "source": [
    "Công thức hồi quy\n",
    "\n",
    "$$\\text{Life expectancy} = ...$$"
   ]
  },
  {
   "cell_type": "markdown",
   "metadata": {},
   "source": [
    "# Yêu cầu 1b: Xây dựng mô hình sử dụng duy nhất 1 đặc trưng, tìm mô hình cho kết quả tốt nhất (2 điểm)"
   ]
  },
  {
   "cell_type": "markdown",
   "metadata": {},
   "source": [
    "Lưu ý: khi sử dụng cross-validation, sinh viên cần xáo trộn dữ liệu 1 lần duy nhất và thực hiện trên toàn bộ đặc trưng"
   ]
  },
  {
   "cell_type": "code",
   "execution_count": 77,
   "metadata": {},
   "outputs": [],
   "source": [
    "# Phần code cho yêu cầu 1b\n",
    "# Tìm ra đặc trưng tốt nhất\n",
    "# Huấn luyện lại mô hình best_feature_model với đặc trưng tốt nhất trên toàn bộ tập huấn luyện\n",
    "def cross_validation(data, k=5, f_index = 0):\n",
    "    kf = KFold(n_splits=k, shuffle=True)\n",
    "    rmse_list = []\n",
    "    for train_index, test_index in kf.split(data):\n",
    "        X_train, X_test = data[train_index, f_index].reshape(-1, 1), data[test_index, f_index].reshape(-1, 1)\n",
    "        y_train, y_test = data[train_index, -1], data[test_index, -1]\n",
    "        model = LinearRegression()\n",
    "        model.fit(X_train, y_train)\n",
    "        prediction = model.predict(X_test)\n",
    "        rmse = np.sqrt(np.mean((prediction - y_test) ** 2))\n",
    "        rmse_list.append(rmse)\n",
    "\n",
    "    return np.min(rmse_list)\n"
   ]
  },
  {
   "cell_type": "code",
   "execution_count": 85,
   "metadata": {},
   "outputs": [
    {
     "name": "stdout",
     "output_type": "stream",
     "text": [
      "           Mô Hình với 1 đặc trưng      RMSE\n",
      "0                  Adult Mortality  0.134980\n",
      "1                              BMI  0.148245\n",
      "2                            Polio  0.171465\n",
      "3                       Diphtheria  0.169890\n",
      "4                         HIV/AIDS  0.152245\n",
      "5                              GDP  0.159421\n",
      "6               Thinness age 10-19  0.159403\n",
      "7                 Thinness age 5-9  0.167484\n",
      "8  Income composition of resources  0.110331\n",
      "9                        Schooling  0.115101\n"
     ]
    }
   ],
   "source": [
    "# In ra các kết quả cross-validation như yêu cầu 1b\n",
    "rmse_best_list = []\n",
    "for i in range(len(data[0]) - 1):\n",
    "    rmse = cross_validation(data, k=5, f_index=i)\n",
    "    rmse_best_list.append(rmse)\n",
    "\n",
    "def create_table(rmse_best_list, name_Columns):\n",
    "    table = []\n",
    "    for i in range(len(rmse_best_list)):\n",
    "        row = []\n",
    "        row.append(name_Columns[i])\n",
    "        row.append(rmse_best_list[i])\n",
    "        table.append(row)\n",
    "    return pd.DataFrame(table, columns=['Mô Hình với 1 đặc trưng', 'RMSE'])\n",
    "\n",
    "#print table\n",
    "print(create_table(rmse_best_list, name_Columns))"
   ]
  },
  {
   "cell_type": "markdown",
   "metadata": {},
   "source": [
    "Công thức hồi quy\n",
    "\n",
    "$$\\text{Life expectancy} = ...$$"
   ]
  },
  {
   "cell_type": "markdown",
   "metadata": {},
   "source": [
    "# Yêu cầu 1c: Sinh viên tự xây dựng mô hình, tìm mô hình cho kết quả tốt nhất (3 điểm)"
   ]
  },
  {
   "cell_type": "markdown",
   "metadata": {},
   "source": [
    "Lưu ý: khi sử dụng cross-validation, sinh viên cần xáo trộn dữ liệu 1 lần duy nhất và thực hiện trên toàn bộ $m$ mô hình mà sinh viên thiết kế"
   ]
  },
  {
   "cell_type": "code",
   "execution_count": 95,
   "metadata": {},
   "outputs": [
    {
     "name": "stdout",
     "output_type": "stream",
     "text": [
      "(1085, 11)\n",
      "           Mô Hình với 1 đặc trưng      RMSE\n",
      "0                  Adult Mortality  0.120639\n",
      "1                              BMI  0.090166\n",
      "2                            Polio  0.131136\n",
      "3                       Diphtheria  0.140626\n",
      "4                         HIV/AIDS  0.155665\n",
      "5                              GDP  0.144286\n",
      "6               Thinness age 10-19  0.133983\n",
      "7                 Thinness age 5-9  0.147458\n",
      "8  Income composition of resources  0.069477\n",
      "9                        Schooling  0.104490\n"
     ]
    }
   ],
   "source": [
    "# Phần code cho yêu cầu 1c\n",
    "# Tìm ra mô hình tốt nhất (tự thiết kế bởi sinh viên)\n",
    "# In ra các kết quả cross-validation như yêu cầu\n",
    "# Tính sai số từ 1 cặp bộ dữ liệu train và test.\n",
    "def scale_data(data):\n",
    "    # scale model to data from 0 to 1\n",
    "    # scale trên từng cột của data\n",
    "    print(data.shape)\n",
    "    for i in range(1,len(data[1])):\n",
    "        data[:, i] = (data[:, i] - min(data[:, i])) / (max(data[:, i]) - min(data[:, i]))\n",
    "    return data\n",
    "\n",
    "# data = scale_data(data)\n",
    "newdata = scale_data(data)\n",
    "\n",
    "def cross_val(new_data, k = 5, f_index = 0):\n",
    "    kf = KFold(n_splits=k, shuffle=True)\n",
    "    rmse_list = []\n",
    "    for train_index, test_index in kf.split(new_data):\n",
    "        X_train, X_test = new_data[train_index, f_index].reshape(-1, 1), new_data[test_index, f_index].reshape(-1, 1)\n",
    "        y_train, y_test = new_data[train_index, -1], new_data[test_index, -1]\n",
    "        model = LinearRegression()\n",
    "        model.fit(X_train, y_train)\n",
    "        prediction = model.predict(X_test)\n",
    "        rmse = np.sqrt(np.mean((prediction - y_test) ** 2))\n",
    "        rmse_list.append(rmse)\n",
    "\n",
    "    return np.min(rmse_list)\n",
    "\n",
    "rmse_data_scaled = []\n",
    "for i in range(len(data[0]) - 1):\n",
    "    rmse = cross_val(data, k=5, f_index=i)\n",
    "    rmse_data_scaled.append(rmse)\n",
    "\n",
    "print(create_table(rmse_data_scaled, name_Columns))"
   ]
  },
  {
   "cell_type": "code",
   "execution_count": 94,
   "metadata": {},
   "outputs": [
    {
     "name": "stdout",
     "output_type": "stream",
     "text": [
      "           Mô Hình với 1 đặc trưng      RMSE\n",
      "0                  Adult Mortality  0.115012\n",
      "1                              BMI  0.110756\n",
      "2                            Polio  0.129960\n",
      "3                       Diphtheria  0.138005\n",
      "4                         HIV/AIDS  0.153841\n",
      "5                              GDP  0.136198\n",
      "6               Thinness age 10-19  0.149825\n",
      "7                 Thinness age 5-9  0.138837\n",
      "8  Income composition of resources  0.072247\n",
      "9                        Schooling  0.102377\n"
     ]
    }
   ],
   "source": [
    "# biến đổi mô hình bằng cách bình phương\n",
    "def square_data(data):\n",
    "    for i in range(1,len(data[1])):\n",
    "        data[:, i] = data[:, i] ** 2\n",
    "    return data\n",
    "\n",
    "square_data_ = square_data(data)\n",
    "# làm tương tự như trên\n",
    "def cross_val_square(square_data, k = 5, f_index = 0):\n",
    "    kf = KFold(n_splits=k, shuffle=True)\n",
    "    rmse_list = []\n",
    "    for train_index, test_index in kf.split(square_data):\n",
    "        X_train, X_test = square_data[train_index, f_index].reshape(-1, 1), square_data[test_index, f_index].reshape(-1, 1)\n",
    "        y_train, y_test = square_data[train_index, -1], square_data[test_index, -1]\n",
    "        model = LinearRegression()\n",
    "        model.fit(X_train, y_train)\n",
    "        prediction = model.predict(X_test)\n",
    "        rmse = np.sqrt(np.mean((prediction - y_test) ** 2))\n",
    "        rmse_list.append(rmse)\n",
    "\n",
    "    return np.min(rmse_list)\n",
    "\n",
    "rmse_data_square = []\n",
    "for i in range(len(data[0]) - 1):\n",
    "    rmse = cross_val_square(data, k=5, f_index=i)\n",
    "    rmse_data_square.append(rmse)\n",
    "\n",
    "print(create_table(rmse_data_square, name_Columns))"
   ]
  },
  {
   "cell_type": "code",
   "execution_count": 96,
   "metadata": {},
   "outputs": [
    {
     "name": "stdout",
     "output_type": "stream",
     "text": [
      "           Mô Hình với 1 đặc trưng      RMSE\n",
      "0                  Adult Mortality  0.114607\n",
      "1                              BMI  0.109011\n",
      "2                            Polio  0.135831\n",
      "3                       Diphtheria  0.136326\n",
      "4                         HIV/AIDS  0.153165\n",
      "5                              GDP  0.142456\n",
      "6               Thinness age 10-19  0.148923\n",
      "7                 Thinness age 5-9  0.147369\n",
      "8  Income composition of resources  0.079163\n",
      "9                        Schooling  0.102668\n"
     ]
    }
   ],
   "source": [
    "# mô hình có sự kết hợp của 2 hoặc nhiều đặc trưng\n",
    "def combine_features(data):\n",
    "    # combine features\n",
    "    # data = np.hstack((data, data[:, 1:] ** 2))\n",
    "    data = np.hstack((data, data[:, 1:] ** 2, data[:, 1:] ** 3))\n",
    "    return data\n",
    "\n",
    "combine_data = combine_features(data)\n",
    "\n",
    "def cross_val_combine(combine_data, k = 5, f_index = 0):\n",
    "    kf = KFold(n_splits=k, shuffle=True)\n",
    "    rmse_list = []\n",
    "    for train_index, test_index in kf.split(combine_data):\n",
    "        X_train, X_test = combine_data[train_index, f_index].reshape(-1, 1), combine_data[test_index, f_index].reshape(-1, 1)\n",
    "        y_train, y_test = combine_data[train_index, -1], combine_data[test_index, -1]\n",
    "        model = LinearRegression()\n",
    "        model.fit(X_train, y_train)\n",
    "        prediction = model.predict(X_test)\n",
    "        rmse = np.sqrt(np.mean((prediction - y_test) ** 2))\n",
    "        rmse_list.append(rmse)\n",
    "\n",
    "    return np.min(rmse_list)\n",
    "\n",
    "rmse_data_combine = []\n",
    "for i in range(len(data[0]) - 1):\n",
    "    rmse = cross_val_combine(data, k=5, f_index=i)\n",
    "    rmse_data_combine.append(rmse)\n",
    "\n",
    "print(create_table(rmse_data_combine, name_Columns))\n"
   ]
  },
  {
   "cell_type": "markdown",
   "metadata": {},
   "source": [
    "Công thức hồi quy\n",
    "\n",
    "$$\\text{Life expectancy} = ...$$"
   ]
  }
 ],
 "metadata": {
  "kernelspec": {
   "display_name": "Python 3.9.12 ('base')",
   "language": "python",
   "name": "python3"
  },
  "language_info": {
   "codemirror_mode": {
    "name": "ipython",
    "version": 3
   },
   "file_extension": ".py",
   "mimetype": "text/x-python",
   "name": "python",
   "nbconvert_exporter": "python",
   "pygments_lexer": "ipython3",
   "version": "3.9.12"
  },
  "orig_nbformat": 4,
  "vscode": {
   "interpreter": {
    "hash": "ad2bdc8ecc057115af97d19610ffacc2b4e99fae6737bb82f5d7fb13d2f2c186"
   }
  }
 },
 "nbformat": 4,
 "nbformat_minor": 2
}
