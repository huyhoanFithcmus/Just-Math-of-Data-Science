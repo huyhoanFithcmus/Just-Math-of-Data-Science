{
 "cells": [
  {
   "cell_type": "markdown",
   "metadata": {},
   "source": [
    "# <center>Đồ án 3: Linear Regression</center>"
   ]
  },
  {
   "cell_type": "markdown",
   "metadata": {},
   "source": [
    "# 1. Thông tin sinh viên\n",
    "\n",
    "- Họ và tên: Nguyễn Huy Hoàn\n",
    "- MSSV: 20127166\n",
    "- Lớp: 20CLC02"
   ]
  },
  {
   "cell_type": "markdown",
   "metadata": {},
   "source": [
    "# 2. Import thư viện"
   ]
  },
  {
   "cell_type": "code",
   "execution_count": 5,
   "metadata": {},
   "outputs": [],
   "source": [
    "import pandas as pd\n",
    "import numpy as np\n",
    "\n",
    "# Import thêm dữ thư viện nếu cần\n",
    "import sklearn as sk\n",
    "from sklearn import linear_model\n",
    "from sklearn.linear_model import LinearRegression\n",
    "from sklearn.model_selection import KFold"
   ]
  },
  {
   "cell_type": "markdown",
   "metadata": {},
   "source": [
    "Ở đây em dùng thư viện sklearn để làm việc với Linear Regression và KFold Cross Validation.\n",
    "\n",
    "Lý do em sử dụng thư viện sklearn là để làm việc với Linear Regression và KFold Cross Validation.\n",
    "\n",
    "Lý do em sử dụng thư viện numpy là để chuyển dữ liệu từ dataframe sang numpy.array.\n",
    "\n",
    "Lý do em sử dụng pandas là để đọc dữ liệu từ file excel hoặc csv"
   ]
  },
  {
   "cell_type": "markdown",
   "metadata": {},
   "source": [
    "# 3. Đọc dữ liệu"
   ]
  },
  {
   "cell_type": "code",
   "execution_count": 6,
   "metadata": {},
   "outputs": [],
   "source": [
    "# Đọc dữ liệu bằng pandas\n",
    "train = pd.read_csv('train.csv', sep=',')\n",
    "test = pd.read_csv('test.csv', sep=',')\n",
    "\n",
    "# Lấy các đặc trưng X và giá trị mục tiêu y cho các tập huấn luyện (train) và kiểm tra (test)\n",
    "X_train = train.iloc[:, :-1]    # Dataframe (chứa 10 đặc trưng huấn luyện)\n",
    "y_train = train.iloc[:, -1]     # Series    (chứa 1 giá trị mục tiêu kiểm tra)\n",
    "\n",
    "X_test = test.iloc[:, :-1]      # Dataframe (chứa 10 đặc trưng kiểm tra)\n",
    "y_test = test.iloc[:, -1]       # Series    (chứa 1 giá trị mục tiêu kiểm tra)\n",
    "\n",
    "# Sinh viên có thể sử dụng các khác nếu cần\n"
   ]
  },
  {
   "cell_type": "markdown",
   "metadata": {},
   "source": [
    "Phần đọc dữ liệu em sử dụng code hướng dẫn để đọc dữ liêu từ file csv.\n",
    "\n",
    "Dùng pandas để đọc dữ liệu từ file csv.\n",
    "\n",
    "Lệnh ```train.iloc``` chỉ lấy các cột có index từ 0 đến n-1."
   ]
  },
  {
   "cell_type": "markdown",
   "metadata": {},
   "source": [
    "# 4. Cài đặt hàm"
   ]
  },
  {
   "cell_type": "code",
   "execution_count": 7,
   "metadata": {},
   "outputs": [
    {
     "name": "stdout",
     "output_type": "stream",
     "text": [
      "['Adult Mortality', 'BMI', 'Polio', 'Diphtheria', 'HIV/AIDS', 'GDP', 'Thinness age 10-19', 'Thinness age 5-9', 'Income composition of resources', 'Schooling', 'Life expectancy']\n"
     ]
    }
   ],
   "source": [
    "name_Columns = list(train.columns.values)\n",
    "print(name_Columns)\n",
    "\n",
    "data = np.array(train)\n",
    "data_test = np.array(test)"
   ]
  },
  {
   "cell_type": "markdown",
   "metadata": {},
   "source": [
    "Em dùng một biến danh sách có tên là name_Columns để lưu tên cột của dữ liệu.\n",
    "``` python\n",
    "    name_Columns = ['x', 'y']\n",
    "```\n",
    "Sau đó em dùng numpy để chuyển dữ liệu thành mảng.\n",
    "Tương tự dùng numpy để chuyển dữ liệu tập kiểm tra thành mảng.\n",
    "\n",
    "Cách này giúp em có thể train và test dữ liệu dễ hơn"
   ]
  },
  {
   "cell_type": "markdown",
   "metadata": {},
   "source": [
    "# Yêu cầu 1a: Sử dụng toàn bộ 10 đặc trưng đề bài cung cấp (2 điểm) "
   ]
  },
  {
   "cell_type": "code",
   "execution_count": 8,
   "metadata": {},
   "outputs": [],
   "source": [
    "# Phần code cho yêu cầu 1a\n",
    "model = LinearRegression()\n",
    "model.fit(X_train, y_train)\n",
    "prediction = model.predict(X_test)\n",
    "# print(model.coef_)\n",
    "# print(prediction)"
   ]
  },
  {
   "cell_type": "markdown",
   "metadata": {},
   "source": [
    "Ta xây dựng model với tất cả các đặc trưng đề bài cung cấp.\n",
    "Bằng linear regression, ta có thể tìm được hệ số của tất cả các đặc trưng đề bài cung cấp.\n",
    "Sau đó ta có thể tính được giá trị y dựa vào hệ số của tất cả các đặc trưng đề bài cung cấp.\n",
    "\n",
    "Lệnh ```model.fit(x_train, y_train)``` sẽ train model với dữ liệu x_train và y_train.\n",
    "\n",
    "```prediction = model.predict(x_test)``` sẽ tính được giá trị y dựa vào hệ số của tất cả các đặc trưng đề bài cung cấp.\n",
    "\n",
    "Sau đó dùng numpy để chuyển đổi giá trị y dựa vào hệ số của tất cả các đặc trưng đề bài cung cấp."
   ]
  },
  {
   "cell_type": "code",
   "execution_count": 9,
   "metadata": {},
   "outputs": [
    {
     "name": "stdout",
     "output_type": "stream",
     "text": [
      "RMSE:  3.461055081296453\n"
     ]
    }
   ],
   "source": [
    "# Gọi hàm RMSE (tự cài đặt hoặc từ thư viện) trên tập kiểm tra\n",
    "RMSE = np.sqrt(np.mean((prediction - y_test) ** 2))\n",
    "print(\"RMSE: \", RMSE)"
   ]
  },
  {
   "cell_type": "markdown",
   "metadata": {},
   "source": [
    "Hàm RMSE (Root Mean Squared Error) sẽ tính được sai số trung bình của dữ liệu.\n",
    "\n",
    "RMSE được tính bằng công thức:\n",
    "$$\\text{RMSE} = \\sqrt{\\frac{1}{n}\\sum_{i=1}^{n}(y_{i}-y_{prediction})^2}$$\n"
   ]
  },
  {
   "cell_type": "markdown",
   "metadata": {},
   "source": [
    "Công thức hồi quy\n",
    "\n",
    "$$\\text{Life expectancy} = Life expectancy =  52.43 -0.02 AM + 0.0457 BMI + 0.0015 P + 0.03 Diph -0.50 HIV/AIDS + 0.000063 GDP -0.0403 Age10_19 -0.0565 Age5_19 + 12.71 ICOR + 0.03 School $$"
   ]
  },
  {
   "cell_type": "markdown",
   "metadata": {},
   "source": [
    "# Yêu cầu 1b: Xây dựng mô hình sử dụng duy nhất 1 đặc trưng, tìm mô hình cho kết quả tốt nhất (2 điểm)"
   ]
  },
  {
   "cell_type": "markdown",
   "metadata": {},
   "source": [
    "Lưu ý: khi sử dụng cross-validation, sinh viên cần xáo trộn dữ liệu 1 lần duy nhất và thực hiện trên toàn bộ đặc trưng"
   ]
  },
  {
   "cell_type": "code",
   "execution_count": 10,
   "metadata": {},
   "outputs": [],
   "source": [
    "# Phần code cho yêu cầu 1b\n",
    "# Tìm ra đặc trưng tốt nhất\n",
    "# Huấn luyện lại mô hình best_feature_model với đặc trưng tốt nhất trên toàn bộ tập huấn luyện\n",
    "def cross_validation(data, k=5, f_index = 0):\n",
    "    kf = KFold(n_splits=k, shuffle=True)\n",
    "    rmse_list = []\n",
    "    for train_index, test_index in kf.split(data):\n",
    "        X_train, X_test = data[train_index, f_index].reshape(-1, 1), data[test_index, f_index].reshape(-1, 1)\n",
    "        y_train, y_test = data[train_index, -1], data[test_index, -1]\n",
    "        model = LinearRegression()\n",
    "        model.fit(X_train, y_train)\n",
    "        prediction = model.predict(X_test)\n",
    "        rmse = np.sqrt(np.mean((prediction - y_test) ** 2))\n",
    "        rmse_list.append(rmse)\n",
    "\n",
    "    return np.min(rmse_list)\n"
   ]
  },
  {
   "cell_type": "markdown",
   "metadata": {},
   "source": [
    "Trước khi sử dụng cross-validation, em đã xáo trộn dữ liệu thành công bằng cách sử dụng hàm KFold \n",
    "\n",
    "Em để biến shuffle là True, nghĩa là em sẽ xáo trộn dữ liệu trước khi sử dụng cross-validation.\n",
    "\n",
    "Ở hàm cross_validation, em sử dụng hàm KFold để chia dữ liệu thành các phần tử, ở đây em chia ra làm 5 phần tử.\n",
    "\n",
    "Em lấy các tính chất của phần tử đầu tiên vào model mang nó đi train với các fold khác. Và sau đó em lấy các tính chất của phần tử thứ 2 vào model mang nó đi train với các fold khác. Và như vậy cho đến hết.\n",
    "\n",
    "Em sử dụng vòng lặp for để train model với các fold khác. Sau đó em đưa hết vào model để tính được RMSE, sau khi tính được RMSE thì em sẽ lấy giá trị nhỏ nhất để đưa vào list RMSE.\n",
    "\n",
    "Và giá trị nhỏ nhất đó là đặc trưng tốt nhất.\n"
   ]
  },
  {
   "cell_type": "code",
   "execution_count": 11,
   "metadata": {},
   "outputs": [
    {
     "name": "stdout",
     "output_type": "stream",
     "text": [
      "           Mô Hình với 1 đặc trưng      RMSE\n",
      "0                  Adult Mortality  5.802005\n",
      "1                              BMI  6.720119\n",
      "2                            Polio  8.004572\n",
      "3                       Diphtheria  7.619996\n",
      "4                         HIV/AIDS  6.906212\n",
      "5                              GDP  7.265052\n",
      "6               Thinness age 10-19  7.711883\n",
      "7                 Thinness age 5-9  7.006402\n",
      "8  Income composition of resources  5.250445\n",
      "9                        Schooling  5.544680\n"
     ]
    }
   ],
   "source": [
    "# In ra các kết quả cross-validation như yêu cầu 1b\n",
    "rmse_best_list = []\n",
    "for i in range(len(data[0]) - 1):\n",
    "    rmse = cross_validation(data, k=5, f_index=i)\n",
    "    rmse_best_list.append(rmse)\n",
    "\n",
    "def create_table(rmse_best_list, name_Columns):\n",
    "    table = []\n",
    "    for i in range(len(rmse_best_list)):\n",
    "        row = []\n",
    "        row.append(name_Columns[i])\n",
    "        row.append(rmse_best_list[i])\n",
    "        table.append(row)\n",
    "    return pd.DataFrame(table, columns=['Mô Hình với 1 đặc trưng', 'RMSE'])\n",
    "\n",
    "def find_best_feature(rmse_best_list, name_Columns):\n",
    "    best_feature = rmse_best_list.index(min(rmse_best_list))\n",
    "    return name_Columns[best_feature]\n",
    "\n",
    "#print table\n",
    "print(create_table(rmse_best_list, name_Columns))"
   ]
  },
  {
   "cell_type": "markdown",
   "metadata": {},
   "source": [
    "Em sử dụng vòng lặp for để lặp cross-validation với số lần lặp là số cột, sau đó em lấy giá trị nhỏ nhất để đưa vào list RMSE.\n",
    "\n",
    "Hàm create_table_rmse sẽ tạo bảng RMSE với các giá trị RMSE.\n",
    "\n",
    "Hàm find_best_rmse sẽ tìm giá trị nhỏ nhất trong list RMSE."
   ]
  },
  {
   "cell_type": "markdown",
   "metadata": {},
   "source": [
    "Công thức hồi quy\n",
    "\n",
    "$$\\text{Life expectancy} = \\text{RMSE}^{\\frac{1}{2}}$$"
   ]
  },
  {
   "cell_type": "markdown",
   "metadata": {},
   "source": [
    "# Yêu cầu 1c: Sinh viên tự xây dựng mô hình, tìm mô hình cho kết quả tốt nhất (3 điểm)"
   ]
  },
  {
   "cell_type": "markdown",
   "metadata": {},
   "source": [
    "Lưu ý: khi sử dụng cross-validation, sinh viên cần xáo trộn dữ liệu 1 lần duy nhất và thực hiện trên toàn bộ $m$ mô hình mà sinh viên thiết kế"
   ]
  },
  {
   "cell_type": "code",
   "execution_count": 12,
   "metadata": {},
   "outputs": [
    {
     "name": "stdout",
     "output_type": "stream",
     "text": [
      "(1085, 11)\n",
      "           Mô Hình với 1 đặc trưng      RMSE\n",
      "0                  Adult Mortality  0.130204\n",
      "1                              BMI  0.152618\n",
      "2                            Polio  0.168724\n",
      "3                       Diphtheria  0.174985\n",
      "4                         HIV/AIDS  0.155193\n",
      "5                              GDP  0.165790\n",
      "6               Thinness age 10-19  0.167939\n",
      "7                 Thinness age 5-9  0.161462\n",
      "8  Income composition of resources  0.120751\n",
      "9                        Schooling  0.125031\n"
     ]
    }
   ],
   "source": [
    "# Phần code cho yêu cầu 1c\n",
    "# Tìm ra mô hình tốt nhất (tự thiết kế bởi sinh viên)\n",
    "# In ra các kết quả cross-validation như yêu cầu\n",
    "# Tính sai số từ 1 cặp bộ dữ liệu train và test.\n",
    "def scale_data(data):\n",
    "    # scale model to data from 0 to 1\n",
    "    # scale trên từng cột của data\n",
    "    print(data.shape)\n",
    "    for i in range(1,len(data[1])):\n",
    "        data[:, i] = (data[:, i] - min(data[:, i])) / (max(data[:, i]) - min(data[:, i]))\n",
    "    return data\n",
    "\n",
    "# data = scale_data(data)\n",
    "newdata = scale_data(data)\n",
    "\n",
    "def cross_val(new_data, k = 5, f_index = 0):\n",
    "    kf = KFold(n_splits=k, shuffle=True)\n",
    "    rmse_list = []\n",
    "    for train_index, test_index in kf.split(new_data):\n",
    "        X_train, X_test = new_data[train_index, f_index].reshape(-1, 1), new_data[test_index, f_index].reshape(-1, 1)\n",
    "        y_train, y_test = new_data[train_index, -1], new_data[test_index, -1]\n",
    "        model = LinearRegression()\n",
    "        model.fit(X_train, y_train)\n",
    "        prediction = model.predict(X_test)\n",
    "        rmse = np.sqrt(np.mean((prediction - y_test) ** 2))\n",
    "        rmse_list.append(rmse)\n",
    "\n",
    "    return np.min(rmse_list)\n",
    "\n",
    "rmse_data_scaled = []\n",
    "for i in range(len(data[0]) - 1):\n",
    "    rmse = cross_val(data, k=5, f_index=i)\n",
    "    rmse_data_scaled.append(rmse)\n",
    "\n",
    "print(create_table(rmse_data_scaled, name_Columns))"
   ]
  },
  {
   "cell_type": "markdown",
   "metadata": {},
   "source": [
    "### Mô hình thứ nhất\n",
    "Mô hình này em chọn cách scale dữ liệu về các dữ liệu có giá trị từ 0 đến 1.\n",
    "\n",
    "Lý do em chọn cách scale dữ liệu này là vì nó sẽ giúp cho mô hình này có thể tính được đặc trưng tốt nhất.\n",
    "\n",
    "Sau đó em dùng phương pháp cross-validation để train mô hình này và tìm ra đặc trưng tốt nhất.\n",
    "\n",
    "Hàm scale_data sẽ scale dữ liệu về các dữ liệu có giá trị từ 0 đến 1."
   ]
  },
  {
   "cell_type": "code",
   "execution_count": 13,
   "metadata": {},
   "outputs": [
    {
     "name": "stdout",
     "output_type": "stream",
     "text": [
      "           Mô Hình với 1 đặc trưng      RMSE\n",
      "0                  Adult Mortality  0.142103\n",
      "1                              BMI  0.144534\n",
      "2                            Polio  0.176530\n",
      "3                       Diphtheria  0.174079\n",
      "4                         HIV/AIDS  0.172661\n",
      "5                              GDP  0.175401\n",
      "6               Thinness age 10-19  0.191932\n",
      "7                 Thinness age 5-9  0.193403\n",
      "8  Income composition of resources  0.094639\n",
      "9                        Schooling  0.120834\n"
     ]
    }
   ],
   "source": [
    "# biến đổi mô hình bằng cách bình phương\n",
    "def square_data(data):\n",
    "    for i in range(1,len(data[1])):\n",
    "        data[:, i] = data[:, i] ** 2\n",
    "    return data\n",
    "\n",
    "square_data_ = square_data(data)\n",
    "# làm tương tự như trên\n",
    "def cross_val_square(square_data, k = 5, f_index = 0):\n",
    "    kf = KFold(n_splits=k, shuffle=True)\n",
    "    rmse_list = []\n",
    "    for train_index, test_index in kf.split(square_data):\n",
    "        X_train, X_test = square_data[train_index, f_index].reshape(-1, 1), square_data[test_index, f_index].reshape(-1, 1)\n",
    "        y_train, y_test = square_data[train_index, -1], square_data[test_index, -1]\n",
    "        model = LinearRegression()\n",
    "        model.fit(X_train, y_train)\n",
    "        prediction = model.predict(X_test)\n",
    "        rmse = np.sqrt(np.mean((prediction - y_test) ** 2))\n",
    "        rmse_list.append(rmse)\n",
    "\n",
    "    return np.min(rmse_list)\n",
    "\n",
    "rmse_data_square = []\n",
    "for i in range(len(data[0]) - 1):\n",
    "    rmse = cross_val_square(data, k=5, f_index=i)\n",
    "    rmse_data_square.append(rmse)\n",
    "\n",
    "print(create_table(rmse_data_square, name_Columns))"
   ]
  },
  {
   "cell_type": "markdown",
   "metadata": {},
   "source": [
    "### Mô hình thứ 2\n",
    "Mô hình này được tạo ra sau khi biến đổi bình phương của dữ liệu.\n",
    "\n",
    "Lý do em chọn mô hình này là vì nó sẽ giúp cho mô hình này có thể tính được đặc trưng tốt nhất.\n",
    "\n",
    "Sau đó em dùng phương pháp cross-validation để train mô hình này và tìm ra đặc trưng tốt nhất.\n",
    "\n",
    "Hàm square_data sẽ biến đổi dữ liệu thành dữ liệu có giá trị bình phương."
   ]
  },
  {
   "cell_type": "code",
   "execution_count": 14,
   "metadata": {},
   "outputs": [
    {
     "name": "stdout",
     "output_type": "stream",
     "text": [
      "           Mô Hình với 1 đặc trưng      RMSE\n",
      "0                  Adult Mortality  0.142855\n",
      "1                              BMI  0.135670\n",
      "2                            Polio  0.166321\n",
      "3                       Diphtheria  0.172984\n",
      "4                         HIV/AIDS  0.192897\n",
      "5                              GDP  0.174361\n",
      "6               Thinness age 10-19  0.184232\n",
      "7                 Thinness age 5-9  0.181860\n",
      "8  Income composition of resources  0.096158\n",
      "9                        Schooling  0.124251\n"
     ]
    }
   ],
   "source": [
    "# mô hình có sự kết hợp của 2 hoặc nhiều đặc trưng\n",
    "def combine_features(data):\n",
    "    # chọn ra 2 đặc trưng có độ chính xác cao nhất từ data và tạo thành 1 data mới \n",
    "    data_new = data[:, [0, 1]]\\\n",
    "    # kết hợp 2 đặc trưng\n",
    "    data_new = np.concatenate((data_new, data[:, [2, 3]]), axis=1)\n",
    "    return data_new\n",
    "\n",
    "combine_data = combine_features(data)\n",
    "\n",
    "def cross_val_combine(combine_data, k = 5, f_index = 0):\n",
    "    kf = KFold(n_splits=k, shuffle=True)\n",
    "    rmse_list = []\n",
    "    for train_index, test_index in kf.split(combine_data):\n",
    "        X_train, X_test = combine_data[train_index, f_index].reshape(-1, 1), combine_data[test_index, f_index].reshape(-1, 1)\n",
    "        y_train, y_test = combine_data[train_index, -1], combine_data[test_index, -1]\n",
    "        model = LinearRegression()\n",
    "        model.fit(X_train, y_train)\n",
    "        prediction = model.predict(X_test)\n",
    "        rmse = np.sqrt(np.mean((prediction - y_test) ** 2))\n",
    "        rmse_list.append(rmse)\n",
    "\n",
    "    return np.min(rmse_list)\n",
    "\n",
    "rmse_data_combine = []\n",
    "for i in range(len(data[0]) - 1):\n",
    "    rmse = cross_val_combine(data, k=5, f_index=i)\n",
    "    rmse_data_combine.append(rmse)\n",
    "\n",
    "# find min of rmse_data_combine\n",
    "def find_min(rmse_data_combine):\n",
    "    # sort rmse_data_combine from small to big\n",
    "    rmse_data_combine.sort()\n",
    "    # find index of min of rmse_data_combine\n",
    "    index_min = rmse_data_combine.index(min(rmse_data_combine))\n",
    "    return index_min\n",
    "\n",
    "\n",
    "print(create_table(rmse_data_combine, name_Columns))\n"
   ]
  },
  {
   "cell_type": "markdown",
   "metadata": {},
   "source": [
    "Công thức hồi quy\n",
    "\n",
    "$$\\text{Life expectancy} = \\text{RMSE}^{\\frac{1}{2}}$$"
   ]
  },
  {
   "cell_type": "markdown",
   "metadata": {},
   "source": [
    "### Mô hình thứ 3\n",
    "Mô hình này được tạo ra sau khi chọn ra 2 đặc trưng tốt nhất kết hợp với nhau.\n",
    "\n",
    "Lý do em chọn mô hình này là vì nó sẽ giúp cho mô hình này có thể tính được đặc trưng tốt nhất.\n",
    "\n",
    "Sau đó em dùng phương pháp cross-validation để train mô hình này và tìm ra đặc trưng tốt nhất.\n",
    "\n",
    "Hàm combine_features sẽ kết hợp 2 đặc trưng tốt nhất."
   ]
  },
  {
   "cell_type": "markdown",
   "metadata": {},
   "source": [
    "Sau khi train 3 mô hình, em sẽ chọn mô hình có RMSE nhỏ nhất.\n",
    "\n",
    "Kết quả thu được em thấy dữ liệu được chuẩn hóa và được train được tốt hơn.\n"
   ]
  },
  {
   "cell_type": "markdown",
   "metadata": {},
   "source": [
    "### Tài liệu tham khảo\n",
    "\n",
    "1. Tài liệu về linear regression trong thư viện sklearn:\n",
    "- https://scikit-learn.org/stable/modules/generated/sklearn.linear_model.LinearRegression.html\n",
    "\n",
    "2. Tài liệu về cross-validation trong thư viện sklearn:\n",
    "- https://scikit-learn.org/stable/modules/generated/sklearn.model_selection.cross_val_score.html\n",
    "\n",
    "3. Tài liệu về đặc trưng tốt nhất trong thư viện sklearn:\n",
    "- https://scikit-learn.org/stable/modules/generated/sklearn.feature_selection.SelectKBest.html\n",
    "\n",
    "4. Tài liệu về KFold trong thư viện sklearn:\n",
    "- https://scikit-learn.org/stable/modules/generated/sklearn.model_selection.KFold.html\n",
    "\n",
    "5. Tài liệu về linear model trong thư viện sklearn:\n",
    "- https://scikit-learn.org/stable/modules/generated/sklearn.linear_model.LinearRegression.html\n",
    "\n",
    "Ngoài ra em còn kiếm 1 số code khác nhau trong việc train mô hình. các code để fix lỗi từ các trang như stackoverflow, youtube, etc.\n"
   ]
  },
  {
   "cell_type": "markdown",
   "metadata": {},
   "source": []
  }
 ],
 "metadata": {
  "kernelspec": {
   "display_name": "Python 3.9.12 ('base')",
   "language": "python",
   "name": "python3"
  },
  "language_info": {
   "codemirror_mode": {
    "name": "ipython",
    "version": 3
   },
   "file_extension": ".py",
   "mimetype": "text/x-python",
   "name": "python",
   "nbconvert_exporter": "python",
   "pygments_lexer": "ipython3",
   "version": "3.9.12"
  },
  "orig_nbformat": 4,
  "vscode": {
   "interpreter": {
    "hash": "ad2bdc8ecc057115af97d19610ffacc2b4e99fae6737bb82f5d7fb13d2f2c186"
   }
  }
 },
 "nbformat": 4,
 "nbformat_minor": 2
}
